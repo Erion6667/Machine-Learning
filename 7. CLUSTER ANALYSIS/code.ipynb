{
 "cells": [
  {
   "cell_type": "code",
   "execution_count": 8,
   "metadata": {},
   "outputs": [
    {
     "data": {
      "text/html": [
       "<div>\n",
       "<style scoped>\n",
       "    .dataframe tbody tr th:only-of-type {\n",
       "        vertical-align: middle;\n",
       "    }\n",
       "\n",
       "    .dataframe tbody tr th {\n",
       "        vertical-align: top;\n",
       "    }\n",
       "\n",
       "    .dataframe thead th {\n",
       "        text-align: right;\n",
       "    }\n",
       "</style>\n",
       "<table border=\"1\" class=\"dataframe\">\n",
       "  <thead>\n",
       "    <tr style=\"text-align: right;\">\n",
       "      <th></th>\n",
       "      <th>pH</th>\n",
       "      <th>Temprature</th>\n",
       "      <th>Taste</th>\n",
       "      <th>Odor</th>\n",
       "      <th>Fat</th>\n",
       "      <th>Turbidity</th>\n",
       "      <th>Colour</th>\n",
       "      <th>Grade</th>\n",
       "    </tr>\n",
       "  </thead>\n",
       "  <tbody>\n",
       "    <tr>\n",
       "      <th>0</th>\n",
       "      <td>6.6</td>\n",
       "      <td>35</td>\n",
       "      <td>1</td>\n",
       "      <td>0</td>\n",
       "      <td>1</td>\n",
       "      <td>0</td>\n",
       "      <td>254</td>\n",
       "      <td>high</td>\n",
       "    </tr>\n",
       "    <tr>\n",
       "      <th>1</th>\n",
       "      <td>6.6</td>\n",
       "      <td>36</td>\n",
       "      <td>0</td>\n",
       "      <td>1</td>\n",
       "      <td>0</td>\n",
       "      <td>1</td>\n",
       "      <td>253</td>\n",
       "      <td>high</td>\n",
       "    </tr>\n",
       "    <tr>\n",
       "      <th>2</th>\n",
       "      <td>8.5</td>\n",
       "      <td>70</td>\n",
       "      <td>1</td>\n",
       "      <td>1</td>\n",
       "      <td>1</td>\n",
       "      <td>1</td>\n",
       "      <td>246</td>\n",
       "      <td>low</td>\n",
       "    </tr>\n",
       "    <tr>\n",
       "      <th>3</th>\n",
       "      <td>9.5</td>\n",
       "      <td>34</td>\n",
       "      <td>1</td>\n",
       "      <td>1</td>\n",
       "      <td>0</td>\n",
       "      <td>1</td>\n",
       "      <td>255</td>\n",
       "      <td>low</td>\n",
       "    </tr>\n",
       "    <tr>\n",
       "      <th>4</th>\n",
       "      <td>6.6</td>\n",
       "      <td>37</td>\n",
       "      <td>0</td>\n",
       "      <td>0</td>\n",
       "      <td>0</td>\n",
       "      <td>0</td>\n",
       "      <td>255</td>\n",
       "      <td>medium</td>\n",
       "    </tr>\n",
       "    <tr>\n",
       "      <th>...</th>\n",
       "      <td>...</td>\n",
       "      <td>...</td>\n",
       "      <td>...</td>\n",
       "      <td>...</td>\n",
       "      <td>...</td>\n",
       "      <td>...</td>\n",
       "      <td>...</td>\n",
       "      <td>...</td>\n",
       "    </tr>\n",
       "    <tr>\n",
       "      <th>1054</th>\n",
       "      <td>6.7</td>\n",
       "      <td>45</td>\n",
       "      <td>1</td>\n",
       "      <td>1</td>\n",
       "      <td>0</td>\n",
       "      <td>0</td>\n",
       "      <td>247</td>\n",
       "      <td>medium</td>\n",
       "    </tr>\n",
       "    <tr>\n",
       "      <th>1055</th>\n",
       "      <td>6.7</td>\n",
       "      <td>38</td>\n",
       "      <td>1</td>\n",
       "      <td>0</td>\n",
       "      <td>1</td>\n",
       "      <td>0</td>\n",
       "      <td>255</td>\n",
       "      <td>high</td>\n",
       "    </tr>\n",
       "    <tr>\n",
       "      <th>1056</th>\n",
       "      <td>3.0</td>\n",
       "      <td>40</td>\n",
       "      <td>1</td>\n",
       "      <td>1</td>\n",
       "      <td>1</td>\n",
       "      <td>1</td>\n",
       "      <td>255</td>\n",
       "      <td>low</td>\n",
       "    </tr>\n",
       "    <tr>\n",
       "      <th>1057</th>\n",
       "      <td>6.8</td>\n",
       "      <td>43</td>\n",
       "      <td>1</td>\n",
       "      <td>0</td>\n",
       "      <td>1</td>\n",
       "      <td>0</td>\n",
       "      <td>250</td>\n",
       "      <td>high</td>\n",
       "    </tr>\n",
       "    <tr>\n",
       "      <th>1058</th>\n",
       "      <td>8.6</td>\n",
       "      <td>55</td>\n",
       "      <td>0</td>\n",
       "      <td>1</td>\n",
       "      <td>1</td>\n",
       "      <td>1</td>\n",
       "      <td>255</td>\n",
       "      <td>low</td>\n",
       "    </tr>\n",
       "  </tbody>\n",
       "</table>\n",
       "<p>1059 rows × 8 columns</p>\n",
       "</div>"
      ],
      "text/plain": [
       "       pH  Temprature  Taste  Odor  Fat   Turbidity  Colour   Grade\n",
       "0     6.6          35      1     0     1          0     254    high\n",
       "1     6.6          36      0     1     0          1     253    high\n",
       "2     8.5          70      1     1     1          1     246     low\n",
       "3     9.5          34      1     1     0          1     255     low\n",
       "4     6.6          37      0     0     0          0     255  medium\n",
       "...   ...         ...    ...   ...   ...        ...     ...     ...\n",
       "1054  6.7          45      1     1     0          0     247  medium\n",
       "1055  6.7          38      1     0     1          0     255    high\n",
       "1056  3.0          40      1     1     1          1     255     low\n",
       "1057  6.8          43      1     0     1          0     250    high\n",
       "1058  8.6          55      0     1     1          1     255     low\n",
       "\n",
       "[1059 rows x 8 columns]"
      ]
     },
     "execution_count": 8,
     "metadata": {},
     "output_type": "execute_result"
    }
   ],
   "source": [
    "# assignment 1\n",
    "import pandas as pd\n",
    "\n",
    "dataset = pd.read_csv(\"C:/Users/bayuk/OneDrive/Documents/AI/pens/smtr3/Machine Learning/Data/milk.csv\")\n",
    "dataset"
   ]
  },
  {
   "cell_type": "code",
   "execution_count": 9,
   "metadata": {},
   "outputs": [
    {
     "name": "stdout",
     "output_type": "stream",
     "text": [
      "\n",
      " Dataset setelah pengisian mising value\n",
      "        pH  Temprature  Taste  Odor  Fat   Turbidity  Colour   Grade\n",
      "0     6.6          35      1     0     1          0     254    high\n",
      "1     6.6          36      0     1     0          1     253    high\n",
      "2     8.5          70      1     1     1          1     246     low\n",
      "3     9.5          34      1     1     0          1     255     low\n",
      "4     6.6          37      0     0     0          0     255  medium\n",
      "...   ...         ...    ...   ...   ...        ...     ...     ...\n",
      "1054  6.7          45      1     1     0          0     247  medium\n",
      "1055  6.7          38      1     0     1          0     255    high\n",
      "1056  3.0          40      1     1     1          1     255     low\n",
      "1057  6.8          43      1     0     1          0     250    high\n",
      "1058  8.6          55      0     1     1          1     255     low\n",
      "\n",
      "[1059 rows x 8 columns]\n"
     ]
    }
   ],
   "source": [
    "# assignment 2\n",
    "dataset = dataset.fillna(dataset.groupby(\"Grade\").transform(\"mean\"))\n",
    "print(\"\\n Dataset setelah pengisian mising value\\n\", dataset)"
   ]
  },
  {
   "cell_type": "code",
   "execution_count": 10,
   "metadata": {},
   "outputs": [
    {
     "name": "stdout",
     "output_type": "stream",
     "text": [
      "Fitur yang terpilih:\n",
      "Index(['pH', 'Temprature'], dtype='object')\n"
     ]
    }
   ],
   "source": [
    "# Mengecek korelasi \n",
    "from sklearn.feature_selection import RFE\n",
    "from sklearn.tree import DecisionTreeClassifier as dtc\n",
    "from sklearn.impute import SimpleImputer\n",
    "# Pilih fitur yang memiliki korelasi tinggi dengan target 'Grade' menggunakan RFE\n",
    "\n",
    "# Memilih atribut yang akan digunakan\n",
    "selected_features = ['pH','Temprature','Taste', \"Fat \", 'Odor','Turbidity','Colour']\n",
    "\n",
    "# Memisahkan fitur dan target\n",
    "X = dataset[selected_features]\n",
    "y = dataset[\"Grade\"]\n",
    "\n",
    "# Langkah 1: Lakukan pengisian missing value jika ada atribut yang kosong\n",
    "imputer = SimpleImputer(strategy='mean')\n",
    "X = imputer.fit_transform(X)\n",
    "\n",
    "# Langkah 2: Inisialisasi model Decision Tree\n",
    "model = dtc()\n",
    "\n",
    "# Langkah 3: Inisialisasi RFE\n",
    "rfe = RFE(model, n_features_to_select=2)  # Mengambil 2 fitur terbaik \n",
    "\n",
    "# Langkah 4: Melatih RFE\n",
    "fit = rfe.fit(X, y)\n",
    "\n",
    "# Mengambil indeks dari fitur-fitur yang terpilih\n",
    "selected_features_indices = fit.support_\n",
    "\n",
    "# Mendapatkan nama fitur yang terpilih\n",
    "selected_features = dataset[selected_features].columns[selected_features_indices]\n",
    "\n",
    "print(\"Fitur yang terpilih:\")\n",
    "print(selected_features)"
   ]
  },
  {
   "cell_type": "code",
   "execution_count": 11,
   "metadata": {},
   "outputs": [
    {
     "name": "stdout",
     "output_type": "stream",
     "text": [
      "Within-cluster variance: 22989362.775022704\n",
      "Between-cluster variance: 2.6784593040599454\n",
      "Dataset-cluster variance: 528510677649461.5\n"
     ]
    }
   ],
   "source": [
    "from sklearn.preprocessing import MinMaxScaler\n",
    "import numpy as np\n",
    "# Menghapus variable Grade\n",
    "dataset = dataset.drop(columns=[\"Grade\"])\n",
    "\n",
    "# Membuat objek scaler dengan rentang 0-1\n",
    "scaler = MinMaxScaler(feature_range=(0, 1))\n",
    "\n",
    "# Melakukan normalisasi pada data\n",
    "data_norm = scaler.fit_transform(dataset)\n",
    "\n",
    "# Membuat dataframe pandas dari data ternormalisasi\n",
    "df = pd.DataFrame(data_norm, columns=[ \"pH\",  \"Temprature\",  \"Taste\",  \"Odor\",  \"Fat\",   \"Turbidity\",  \"Colour\"])\n",
    "from sklearn.cluster import KMeans\n",
    "\n",
    "data = df.loc[:,['pH','Temprature','Taste',\"Fat\",'Odor','Turbidity','Colour']]\n",
    "\n",
    "kmeans = KMeans(n_clusters=3, init=\"random\", n_init=1)\n",
    "clusters=kmeans.fit_predict(data)\n",
    "\n",
    "# Mendapatkan label cluster untuk setiap titik data\n",
    "labels = kmeans.labels_\n",
    "\n",
    "# Mendapatkan pusat cluster\n",
    "cluster_centers = kmeans.cluster_centers_\n",
    "\n",
    "# Menghitung varian dalam kelompok\n",
    "within_cluster_var = np.mean([np.linalg.norm(X[labels == i] - cluster_centers[i]) ** 2 for i in range(3)])\n",
    "\n",
    "# Menghitung varian antara kelompok\n",
    "between_cluster_var = np.mean([np.linalg.norm(cluster_centers[i] - kmeans.cluster_centers_) ** 2 for i in range(3)])\n",
    "\n",
    "# Menghitung varian dataset\n",
    "dataset_var = np.mean([np.linalg.norm(between_cluster_var - within_cluster_var) ** 2 ])\n",
    "print(\"Within-cluster variance:\", within_cluster_var)\n",
    "print(\"Between-cluster variance:\", between_cluster_var)\n",
    "print(\"Dataset-cluster variance:\", dataset_var)\n"
   ]
  },
  {
   "cell_type": "code",
   "execution_count": 12,
   "metadata": {},
   "outputs": [
    {
     "name": "stdout",
     "output_type": "stream",
     "text": [
      "Within-cluster variance: 40139.68572500653\n",
      "Between-cluster variance: 194662.34165003712\n",
      "Dataset-cluster variance: 23877251194.12539\n"
     ]
    }
   ],
   "source": [
    "from sklearn.cluster import AgglomerativeClustering\n",
    "\n",
    "data = df.loc[:,['pH','Temprature','Taste',\"Fat\",'Odor','Turbidity','Colour']]\n",
    "\n",
    "clustering=AgglomerativeClustering(n_clusters=3, linkage='average')\n",
    "clusters=clustering.fit_predict(data)\n",
    "\n",
    "# Mendapatkan label cluster untuk setiap titik data\n",
    "labels = clustering.labels_\n",
    "\n",
    "# Mendapatkan pusat cluster\n",
    "cluster_centers = np.array([X[labels == i].mean(axis=0) for i in range(3)])\n",
    "\n",
    "# Menghitung varian dalam kelompok\n",
    "within_cluster_var = np.mean([np.linalg.norm(X[labels == i] - cluster_centers[i]) ** 2 for i in range(3)])\n",
    "\n",
    "# Menghitung varian antara kelompok\n",
    "between_cluster_var = np.mean([np.linalg.norm(cluster_centers[i] - kmeans.cluster_centers_) ** 2 for i in range(3)])\n",
    "\n",
    "# Menghitung varian dataset\n",
    "dataset_var = np.mean([np.linalg.norm(between_cluster_var - within_cluster_var) ** 2 ])\n",
    "\n",
    "print(\"Within-cluster variance:\", within_cluster_var)\n",
    "print(\"Between-cluster variance:\", between_cluster_var)\n",
    "print(\"Dataset-cluster variance:\", dataset_var)"
   ]
  },
  {
   "cell_type": "code",
   "execution_count": 13,
   "metadata": {},
   "outputs": [
    {
     "name": "stdout",
     "output_type": "stream",
     "text": [
      "Within-cluster variance: 41993.161378792094\n",
      "Between-cluster variance: 195749.29236106438\n",
      "Dataset-cluster variance: 23640947814.637665\n"
     ]
    }
   ],
   "source": [
    "# assignment 5 single\n",
    "from sklearn.cluster import AgglomerativeClustering\n",
    "\n",
    "data = df.loc[:,['pH','Temprature','Taste',\"Fat\",'Odor','Turbidity','Colour']]\n",
    "\n",
    "clustering=AgglomerativeClustering(n_clusters=3, linkage='single')\n",
    "clusters=clustering.fit_predict(data)\n",
    "\n",
    "# Mendapatkan label cluster untuk setiap titik data\n",
    "labels = clustering.labels_\n",
    "\n",
    "# Mendapatkan pusat cluster\n",
    "cluster_centers = np.array([X[labels == i].mean(axis=0) for i in range(3)])\n",
    "\n",
    "# Menghitung varian dalam kelompok\n",
    "within_cluster_var = np.mean([np.linalg.norm(X[labels == i] - cluster_centers[i]) ** 2 for i in range(3)])\n",
    "\n",
    "# Menghitung varian antara kelompok\n",
    "between_cluster_var = np.mean([np.linalg.norm(cluster_centers[i] - kmeans.cluster_centers_) ** 2 for i in range(3)])\n",
    "\n",
    "# Menghitung varian dataset\n",
    "dataset_var = np.mean([np.linalg.norm(between_cluster_var - within_cluster_var) ** 2 ])\n",
    "\n",
    "print(\"Within-cluster variance:\", within_cluster_var)\n",
    "print(\"Between-cluster variance:\", between_cluster_var)\n",
    "print(\"Dataset-cluster variance:\", dataset_var)"
   ]
  },
  {
   "cell_type": "code",
   "execution_count": 14,
   "metadata": {},
   "outputs": [
    {
     "name": "stdout",
     "output_type": "stream",
     "text": [
      "Within-cluster variance: 39576.60630636784\n",
      "Between-cluster variance: 194903.55283717846\n",
      "Dataset-cluster variance: 24126460318.5853\n"
     ]
    }
   ],
   "source": [
    "# assignment 5 sentroik\n",
    "from sklearn.cluster import AgglomerativeClustering\n",
    "\n",
    "data = df.loc[:,['pH','Temprature','Taste',\"Fat\",'Odor','Turbidity','Colour']]\n",
    "\n",
    "clustering=AgglomerativeClustering(n_clusters=3, linkage='ward')\n",
    "clusters=clustering.fit_predict(data)\n",
    "\n",
    " # Mendapatkan label cluster untuk setiap titik data\n",
    "labels = clustering.labels_\n",
    "\n",
    "# Mendapatkan pusat cluster\n",
    "cluster_centers = np.array([X[labels == i].mean(axis=0) for i in range(3)])\n",
    "\n",
    "# Menghitung varian dalam kelompok\n",
    "within_cluster_var = np.mean([np.linalg.norm(X[labels == i] - cluster_centers[i]) ** 2 for i in range(3)])\n",
    "\n",
    "# Menghitung varian antara kelompok\n",
    "between_cluster_var = np.mean([np.linalg.norm(cluster_centers[i] - kmeans.cluster_centers_) ** 2 for i in range(3)])\n",
    "\n",
    "# Menghitung varian dataset\n",
    "dataset_var = np.mean([np.linalg.norm(between_cluster_var - within_cluster_var) ** 2 ])\n",
    "\n",
    "print(\"Within-cluster variance:\", within_cluster_var)\n",
    "print(\"Between-cluster variance:\", between_cluster_var)\n",
    "print(\"Dataset-cluster variance:\", dataset_var)"
   ]
  },
  {
   "cell_type": "code",
   "execution_count": 15,
   "metadata": {},
   "outputs": [
    {
     "name": "stdout",
     "output_type": "stream",
     "text": [
      "Within-cluster variance: 43289.863207375514\n",
      "Between-cluster variance: 194982.04417480098\n",
      "Dataset-cluster variance: 23010517766.654156\n"
     ]
    }
   ],
   "source": [
    "# assignment 5 complete\n",
    "from sklearn.cluster import AgglomerativeClustering\n",
    "\n",
    "data = df.loc[:,['pH','Temprature','Taste',\"Fat\",'Odor','Turbidity','Colour']]\n",
    "\n",
    "clustering=AgglomerativeClustering(n_clusters=3, linkage='complete')\n",
    "clusters=clustering.fit_predict(data)\n",
    "\n",
    "# Mendapatkan label cluster untuk setiap titik data\n",
    "labels = clustering.labels_\n",
    "\n",
    "# Mendapatkan pusat cluster\n",
    "cluster_centers = np.array([X[labels == i].mean(axis=0) for i in range(3)])\n",
    "\n",
    "# Menghitung varian dalam kelompok\n",
    "within_cluster_var = np.mean([np.linalg.norm(X[labels == i] - cluster_centers[i]) ** 2 for i in range(3)])\n",
    "\n",
    "# Menghitung varian antara kelompok\n",
    "between_cluster_var = np.mean([np.linalg.norm(cluster_centers[i] - kmeans.cluster_centers_) ** 2 for i in range(3)])\n",
    "\n",
    "# Menghitung varian dataset\n",
    "dataset_var = np.mean([np.linalg.norm(between_cluster_var - within_cluster_var) ** 2 ])\n",
    "\n",
    "print(\"Within-cluster variance:\", within_cluster_var)\n",
    "print(\"Between-cluster variance:\", between_cluster_var)\n",
    "print(\"Dataset-cluster variance:\", dataset_var)"
   ]
  },
  {
   "cell_type": "code",
   "execution_count": 16,
   "metadata": {},
   "outputs": [],
   "source": [
    "# assignment 1\n",
    "import pandas as pd\n",
    "\n",
    "dataset = pd.read_csv(\"C:/Users/bayuk/OneDrive/Documents/AI/pens/smtr3/Machine Learning/Data/water_potability.csv\")"
   ]
  },
  {
   "cell_type": "code",
   "execution_count": 17,
   "metadata": {},
   "outputs": [
    {
     "name": "stdout",
     "output_type": "stream",
     "text": [
      "\n",
      " Dataset setelah pengisian mising value\n",
      "             ph    Hardness       Solids  Chloramines     Sulfate  \\\n",
      "0     7.085378  204.890456  20791.31898     7.300212  368.516441   \n",
      "1     3.716080  129.422921  18630.05786     6.635246  334.564290   \n",
      "2     8.099124  224.236259  19909.54173     9.275884  334.564290   \n",
      "3     8.316766  214.373394  22018.41744     8.059332  356.886136   \n",
      "4     9.092223  181.101509  17978.98634     6.546600  310.135738   \n",
      "...        ...         ...          ...          ...         ...   \n",
      "3271  4.668102  193.681736  47580.99160     7.166639  359.948574   \n",
      "3272  7.808856  193.553212  17329.80216     8.061362  332.566990   \n",
      "3273  9.419510  175.762646  33155.57822     7.350233  332.566990   \n",
      "3274  5.126763  230.603758  11983.86938     6.303357  332.566990   \n",
      "3275  7.874671  195.102299  17404.17706     7.509306  332.566990   \n",
      "\n",
      "      Conductivity  Organic_carbon  Trihalomethanes  Turbidity  Potability  \n",
      "0       564.308654       10.379783        86.990970   2.963135           0  \n",
      "1       592.885359       15.180013        56.329076   4.500656           0  \n",
      "2       418.606213       16.868637        66.420093   3.055934           0  \n",
      "3       363.266516       18.436525       100.341674   4.628771           0  \n",
      "4       398.410813       11.558279        31.997993   4.075075           0  \n",
      "...            ...             ...              ...        ...         ...  \n",
      "3271    526.424171       13.894419        66.687695   4.435821           1  \n",
      "3272    392.449580       19.903225        66.539684   2.798243           1  \n",
      "3273    432.044783       11.039070        69.845400   3.298875           1  \n",
      "3274    402.883113       11.168946        77.488213   4.708658           1  \n",
      "3275    327.459761       16.140368        78.698446   2.309149           1  \n",
      "\n",
      "[3276 rows x 10 columns]\n"
     ]
    }
   ],
   "source": [
    "# assignment 2\n",
    "dataset = dataset.fillna(dataset.groupby(\"Potability\").transform(\"mean\"))\n",
    "print(\"\\n Dataset setelah pengisian mising value\\n\", dataset)"
   ]
  },
  {
   "cell_type": "code",
   "execution_count": 18,
   "metadata": {},
   "outputs": [
    {
     "name": "stdout",
     "output_type": "stream",
     "text": [
      "Fitur yang terpilih:\n",
      "Index(['ph', 'Sulfate'], dtype='object')\n"
     ]
    }
   ],
   "source": [
    "# Mengecek korelasi \n",
    "# Pilih fitur yang memiliki korelasi tinggi dengan target 'Potability' menggunakan RFE\n",
    "\n",
    "# Memilih atribut yang akan digunakan\n",
    "selected_features = ['ph', 'Hardness', 'Solids', 'Chloramines', 'Sulfate', 'Conductivity', 'Organic_carbon', 'Trihalomethanes', 'Turbidity']\n",
    "\n",
    "# Memisahkan fitur dan target\n",
    "X = dataset[selected_features]\n",
    "y = dataset['Potability']\n",
    "\n",
    "# Langkah 1: Lakukan pengisian missing value jika ada atribut yang kosong\n",
    "imputer = SimpleImputer(strategy='mean')\n",
    "X = imputer.fit_transform(X)\n",
    "\n",
    "# Langkah 2: Inisialisasi model Decision Tree\n",
    "model = dtc()\n",
    "\n",
    "# Langkah 3: Inisialisasi RFE\n",
    "rfe = RFE(model, n_features_to_select=2)  # Mengambil 2 fitur terbaik \n",
    "\n",
    "# Langkah 4: Melatih RFE\n",
    "fit = rfe.fit(X, y)\n",
    "\n",
    "# Mengambil indeks dari fitur-fitur yang terpilih\n",
    "selected_features_indices = fit.support_\n",
    "\n",
    "# Mendapatkan nama fitur yang terpilih\n",
    "selected_features = dataset[selected_features].columns[selected_features_indices]\n",
    "\n",
    "print(\"Fitur yang terpilih:\")\n",
    "print(selected_features)"
   ]
  },
  {
   "cell_type": "code",
   "execution_count": 19,
   "metadata": {},
   "outputs": [
    {
     "name": "stdout",
     "output_type": "stream",
     "text": [
      "Within-cluster variance: 920247831483.6045\n",
      "Between-cluster variance: 0.05764007221234954\n",
      "Dataset-cluster variance: 8.468560713501705e+23\n"
     ]
    }
   ],
   "source": [
    "# Membuat objek scaler dengan rentang 0-1\n",
    "scaler = MinMaxScaler(feature_range=(0, 1))\n",
    "\n",
    "# Melakukan normalisasi pada data\n",
    "data_norm = scaler.fit_transform(dataset)\n",
    "\n",
    "# Membuat dataframe pandas dari data ternormalisasi\n",
    "df = pd.DataFrame(data_norm, columns=[ 'ph', 'Hardness', 'Solids', 'Chloramines', 'Sulfate', 'Conductivity', \n",
    "                                      'Organic_carbon', 'Trihalomethanes', 'Turbidity', 'Potability'])\n",
    "\n",
    "data = df.loc[:,['ph', 'Hardness', 'Solids', 'Chloramines', 'Sulfate', 'Conductivity', \n",
    "                 'Organic_carbon', 'Trihalomethanes', 'Turbidity']]\n",
    "\n",
    "kmeans = KMeans(n_clusters=2, init=\"random\", n_init=1)\n",
    "clusters=kmeans.fit_predict(data)\n",
    "\n",
    "# Mendapatkan label cluster untuk setiap titik data\n",
    "labels = kmeans.labels_\n",
    "\n",
    "# Mendapatkan pusat cluster\n",
    "cluster_centers = kmeans.cluster_centers_\n",
    "\n",
    "# Menghitung varian dalam kelompok\n",
    "within_cluster_var = np.mean([np.linalg.norm(X[labels == i] - cluster_centers[i]) ** 2 for i in range(2)])\n",
    "\n",
    "# Menghitung varian antara kelompok\n",
    "between_cluster_var = np.mean([np.linalg.norm(cluster_centers[i] - kmeans.cluster_centers_) ** 2 for i in range(2)])\n",
    "\n",
    "# Menghitung varian dataset\n",
    "dataset_var = np.mean([np.linalg.norm(between_cluster_var - within_cluster_var) ** 2 ])\n",
    "\n",
    "print(\"Within-cluster variance:\", within_cluster_var)\n",
    "print(\"Between-cluster variance:\", between_cluster_var)\n",
    "print(\"Dataset-cluster variance:\", dataset_var)"
   ]
  },
  {
   "cell_type": "code",
   "execution_count": 20,
   "metadata": {},
   "outputs": [
    {
     "name": "stdout",
     "output_type": "stream",
     "text": [
      "Within-cluster variance: 124525688303.2892\n",
      "Between-cluster variance: 3237705104.4185643\n",
      "Dataset-cluster variance: 1.4710774868449526e+22\n"
     ]
    }
   ],
   "source": [
    "# assignment 5 average\n",
    "from sklearn.cluster import AgglomerativeClustering\n",
    "\n",
    "data = df.loc[:,['ph', 'Hardness', 'Solids', 'Chloramines', 'Sulfate', 'Conductivity', \n",
    "                 'Organic_carbon', 'Trihalomethanes', 'Turbidity']]\n",
    "\n",
    "clustering=AgglomerativeClustering(n_clusters=2, linkage='average')\n",
    "clusters=clustering.fit_predict(data)\n",
    "\n",
    "# Mendapatkan label cluster untuk setiap titik data\n",
    "labels = clustering.labels_\n",
    "\n",
    "# Mendapatkan pusat cluster\n",
    "cluster_centers = np.array([X[labels == i].mean(axis=0) for i in range(2)])\n",
    "\n",
    "# Menghitung varian dalam kelompok\n",
    "within_cluster_var = np.mean([np.linalg.norm(X[labels == i] - cluster_centers[i]) ** 2 for i in range(2)])\n",
    "\n",
    "# Menghitung varian antara kelompok\n",
    "between_cluster_var = np.mean([np.linalg.norm(cluster_centers[i] - kmeans.cluster_centers_) ** 2 for i in range(2)])\n",
    "\n",
    "# Menghitung varian dataset\n",
    "dataset_var = np.mean([np.linalg.norm(between_cluster_var - within_cluster_var) ** 2 ])\n",
    "\n",
    "print(\"Within-cluster variance:\", within_cluster_var)\n",
    "print(\"Between-cluster variance:\", between_cluster_var)\n",
    "print(\"Dataset-cluster variance:\", dataset_var)"
   ]
  },
  {
   "cell_type": "code",
   "execution_count": 21,
   "metadata": {},
   "outputs": [
    {
     "name": "stdout",
     "output_type": "stream",
     "text": [
      "Within-cluster variance: 125324411585.64302\n",
      "Between-cluster variance: 3675763938.9909005\n",
      "Dataset-cluster variance: 1.479839347425932e+22\n"
     ]
    }
   ],
   "source": [
    "# assignment 5 single\n",
    "from sklearn.cluster import AgglomerativeClustering\n",
    "\n",
    "data = df.loc[:,['ph', 'Hardness', 'Solids', 'Chloramines', 'Sulfate', 'Conductivity', \n",
    "                 'Organic_carbon', 'Trihalomethanes', 'Turbidity']]\n",
    "\n",
    "clustering=AgglomerativeClustering(n_clusters=2, linkage='single')\n",
    "clusters=clustering.fit_predict(data)\n",
    "\n",
    "# Mendapatkan label cluster untuk setiap titik data\n",
    "labels = clustering.labels_\n",
    "\n",
    "# Mendapatkan pusat cluster\n",
    "cluster_centers = np.array([X[labels == i].mean(axis=0) for i in range(2)])\n",
    "\n",
    "# Menghitung varian dalam kelompok\n",
    "within_cluster_var = np.mean([np.linalg.norm(X[labels == i] - cluster_centers[i]) ** 2 for i in range(2)])\n",
    "\n",
    "# Menghitung varian antara kelompok\n",
    "between_cluster_var = np.mean([np.linalg.norm(cluster_centers[i] - kmeans.cluster_centers_) ** 2 for i in range(2)])\n",
    "\n",
    "# Menghitung varian dataset\n",
    "dataset_var = np.mean([np.linalg.norm(between_cluster_var - within_cluster_var) ** 2 ])\n",
    "\n",
    "print(\"Within-cluster variance:\", within_cluster_var)\n",
    "print(\"Between-cluster variance:\", between_cluster_var)\n",
    "print(\"Dataset-cluster variance:\", dataset_var)"
   ]
  },
  {
   "cell_type": "code",
   "execution_count": 22,
   "metadata": {},
   "outputs": [
    {
     "name": "stdout",
     "output_type": "stream",
     "text": [
      "Within-cluster variance: 121633226278.23341\n",
      "Between-cluster variance: 935077241.3315233\n",
      "Dataset-cluster variance: 1.456804318093418e+22\n"
     ]
    }
   ],
   "source": [
    "# assignment 5 sentroik\n",
    "from sklearn.cluster import AgglomerativeClustering\n",
    "\n",
    "data = df.loc[:,['ph', 'Hardness', 'Solids', 'Chloramines', 'Sulfate', 'Conductivity', \n",
    "                 'Organic_carbon', 'Trihalomethanes', 'Turbidity']]\n",
    "\n",
    "clustering=AgglomerativeClustering(n_clusters=2, linkage='ward')\n",
    "clusters=clustering.fit_predict(data)\n",
    "\n",
    "# Mendapatkan label cluster untuk setiap titik data\n",
    "labels = clustering.labels_\n",
    "\n",
    "# Mendapatkan pusat cluster\n",
    "cluster_centers = np.array([X[labels == i].mean(axis=0) for i in range(2)])\n",
    "\n",
    "# Menghitung varian dalam kelompok\n",
    "within_cluster_var = np.mean([np.linalg.norm(X[labels == i] - cluster_centers[i]) ** 2 for i in range(2)])\n",
    "\n",
    "# Menghitung varian antara kelompok\n",
    "between_cluster_var = np.mean([np.linalg.norm(cluster_centers[i] - kmeans.cluster_centers_) ** 2 for i in range(2)])\n",
    "\n",
    "# Menghitung varian dataset\n",
    "dataset_var = np.mean([np.linalg.norm(between_cluster_var - within_cluster_var) ** 2 ])\n",
    "\n",
    "print(\"Within-cluster variance:\", within_cluster_var)\n",
    "print(\"Between-cluster variance:\", between_cluster_var)\n",
    "print(\"Dataset-cluster variance:\", dataset_var)"
   ]
  },
  {
   "cell_type": "code",
   "execution_count": 23,
   "metadata": {},
   "outputs": [
    {
     "name": "stdout",
     "output_type": "stream",
     "text": [
      "Within-cluster variance: 116615396615.45006\n",
      "Between-cluster variance: 1268679583.74584\n",
      "Dataset-cluster variance: 1.3304865129992045e+22\n"
     ]
    }
   ],
   "source": [
    "# assignment 5 complete\n",
    "from sklearn.cluster import AgglomerativeClustering\n",
    "\n",
    "data = df.loc[:,['ph', 'Hardness', 'Solids', 'Chloramines', 'Sulfate', 'Conductivity', \n",
    "                 'Organic_carbon', 'Trihalomethanes', 'Turbidity']]\n",
    "\n",
    "clustering=AgglomerativeClustering(n_clusters=2, linkage='complete')\n",
    "clusters=clustering.fit_predict(data)\n",
    "\n",
    "# Mendapatkan label cluster untuk setiap titik data\n",
    "labels = clustering.labels_\n",
    "\n",
    "# Mendapatkan pusat cluster\n",
    "cluster_centers = np.array([X[labels == i].mean(axis=0) for i in range(2)])\n",
    "\n",
    "# Menghitung varian dalam kelompok\n",
    "within_cluster_var = np.mean([np.linalg.norm(X[labels == i] - cluster_centers[i]) ** 2 for i in range(2)])\n",
    "\n",
    "# Menghitung varian antara kelompok\n",
    "between_cluster_var = np.mean([np.linalg.norm(cluster_centers[i] - kmeans.cluster_centers_) ** 2 for i in range(2)])\n",
    "\n",
    "# Menghitung varian dataset\n",
    "dataset_var = np.mean([np.linalg.norm(between_cluster_var - within_cluster_var) ** 2 ])\n",
    "\n",
    "print(\"Within-cluster variance:\", within_cluster_var)\n",
    "print(\"Between-cluster variance:\", between_cluster_var)\n",
    "print(\"Dataset-cluster variance:\", dataset_var)"
   ]
  },
  {
   "cell_type": "code",
   "execution_count": 24,
   "metadata": {},
   "outputs": [],
   "source": [
    "# assignment 1\n",
    "import pandas as pd\n",
    "dataset = pd.read_csv(\"C:/Users/bayuk/OneDrive/Documents/AI/pens/smtr3/Machine Learning/Data/ruspini.csv\")\n"
   ]
  },
  {
   "cell_type": "code",
   "execution_count": 25,
   "metadata": {},
   "outputs": [
    {
     "name": "stdout",
     "output_type": "stream",
     "text": [
      "\n",
      " Dataset setelah pengisian mising value\n",
      "      #   X   Y  CLASS\n",
      "0    1   4  53      1\n",
      "1    2   5  63      1\n",
      "2    3  10  59      1\n",
      "3    4   9  77      1\n",
      "4    5  13  49      1\n",
      "..  ..  ..  ..    ...\n",
      "70  71  66  23      4\n",
      "71  72  61  25      4\n",
      "72  73  76  27      4\n",
      "73  74  72  31      4\n",
      "74  75  64  30      4\n",
      "\n",
      "[75 rows x 4 columns]\n"
     ]
    }
   ],
   "source": [
    "# assignment 2\n",
    "dataset = dataset.fillna(dataset.groupby(\"CLASS\").transform(\"mean\"))\n",
    "print(\"\\n Dataset setelah pengisian mising value\\n\", dataset)"
   ]
  },
  {
   "cell_type": "code",
   "execution_count": 26,
   "metadata": {},
   "outputs": [
    {
     "name": "stdout",
     "output_type": "stream",
     "text": [
      "Fitur yang terpilih:\n",
      "Index(['X', 'Y'], dtype='object')\n"
     ]
    }
   ],
   "source": [
    "# Mengecek korelasi \n",
    "# Pilih fitur yang memiliki korelasi tinggi dengan target 'Potability' menggunakan RFE\n",
    "\n",
    "# Memilih atribut yang akan digunakan\n",
    "selected_features = ['X','Y']\n",
    "\n",
    "# Memisahkan fitur dan target\n",
    "X = dataset[selected_features]\n",
    "y = dataset['CLASS']\n",
    "\n",
    "# Langkah 1: Lakukan pengisian missing value jika ada atribut yang kosong\n",
    "imputer = SimpleImputer(strategy='mean')\n",
    "X = imputer.fit_transform(X)\n",
    "\n",
    "# Langkah 2: Inisialisasi model Decision Tree\n",
    "model = dtc()\n",
    "\n",
    "# Langkah 3: Inisialisasi RFE\n",
    "rfe = RFE(model, n_features_to_select=2)  # Mengambil 2 fitur terbaik \n",
    "\n",
    "# Langkah 4: Melatih RFE\n",
    "fit = rfe.fit(X, y)\n",
    "\n",
    "# Mengambil indeks dari fitur-fitur yang terpilih\n",
    "selected_features_indices = fit.support_\n",
    "\n",
    "# Mendapatkan nama fitur yang terpilih\n",
    "selected_features = dataset[selected_features].columns[selected_features_indices]\n",
    "\n",
    "print(\"Fitur yang terpilih:\")\n",
    "print(selected_features)"
   ]
  },
  {
   "cell_type": "code",
   "execution_count": 27,
   "metadata": {},
   "outputs": [
    {
     "name": "stdout",
     "output_type": "stream",
     "text": [
      "Within-cluster variance: 418741.8460068892\n",
      "Between-cluster variance: 11.050672409387879\n",
      "Dataset-cluster variance: 175335478961.44598\n"
     ]
    }
   ],
   "source": [
    "from sklearn.preprocessing import StandardScaler\n",
    "\n",
    "# Melakukan normalisasi data\n",
    "scaler = StandardScaler()\n",
    "data_norm = scaler.fit_transform(X)\n",
    "\n",
    "# Membuat dataframe pandas dari data ternormalisasi\n",
    "df = pd.DataFrame(data_norm, columns=['X', 'Y'])  # Sesuaikan jumlah kolom dengan data Anda\n",
    "df['CLASS'] = y\n",
    "\n",
    "data = df.loc[:,['X','Y']]\n",
    "\n",
    "kmeans = KMeans(n_clusters=4, init=\"random\", n_init=1)\n",
    "clusters=kmeans.fit_predict(data)\n",
    "\n",
    "# Mendapatkan label cluster untuk setiap titik data\n",
    "labels = kmeans.labels_\n",
    "\n",
    "# Mendapatkan pusat cluster\n",
    "cluster_centers = kmeans.cluster_centers_\n",
    "\n",
    "# Menghitung varian dalam kelompok\n",
    "within_cluster_var = np.mean([np.linalg.norm(X[labels == i] - cluster_centers[i]) ** 2 for i in range(2)])\n",
    "\n",
    "# Menghitung varian antara kelompok\n",
    "between_cluster_var = np.mean([np.linalg.norm(cluster_centers[i] - kmeans.cluster_centers_) ** 2 for i in range(2)])\n",
    "\n",
    "# Menghitung varian dataset\n",
    "dataset_var = np.mean([np.linalg.norm(between_cluster_var - within_cluster_var) ** 2 ])\n",
    "\n",
    "print(\"Within-cluster variance:\", within_cluster_var)\n",
    "print(\"Between-cluster variance:\", between_cluster_var)\n",
    "print(\"Dataset-cluster variance:\", dataset_var)"
   ]
  },
  {
   "cell_type": "code",
   "execution_count": 28,
   "metadata": {},
   "outputs": [
    {
     "name": "stdout",
     "output_type": "stream",
     "text": [
      "Within-cluster variance: 3220.262809036658\n",
      "Between-cluster variance: 55535.81079604798\n",
      "Dataset-cluster variance: 2736916561.181285\n"
     ]
    }
   ],
   "source": [
    "# assignment 5 average\n",
    "from sklearn.cluster import AgglomerativeClustering\n",
    "\n",
    "data = df.loc[:,['X','Y']]\n",
    "\n",
    "clustering=AgglomerativeClustering(n_clusters=4, linkage='average')\n",
    "clusters=clustering.fit_predict(data)\n",
    "\n",
    "# Mendapatkan label cluster untuk setiap titik data\n",
    "labels = clustering.labels_\n",
    "\n",
    "# Mendapatkan pusat cluster\n",
    "cluster_centers = np.array([X[labels == i].mean(axis=0) for i in range(4)])\n",
    "\n",
    "# Menghitung varian dalam kelompok\n",
    "within_cluster_var = np.mean([np.linalg.norm(X[labels == i] - cluster_centers[i]) ** 2 for i in range(4)])\n",
    "\n",
    "# Menghitung varian antara kelompok\n",
    "between_cluster_var = np.mean([np.linalg.norm(cluster_centers[i] - kmeans.cluster_centers_) ** 2 for i in range(4)])\n",
    "\n",
    "# Menghitung varian dataset\n",
    "dataset_var = np.mean([np.linalg.norm(between_cluster_var - within_cluster_var) ** 2 ])\n",
    "\n",
    "print(\"Within-cluster variance:\", within_cluster_var)\n",
    "print(\"Between-cluster variance:\", between_cluster_var)\n",
    "print(\"Dataset-cluster variance:\", dataset_var)"
   ]
  },
  {
   "cell_type": "code",
   "execution_count": 29,
   "metadata": {},
   "outputs": [
    {
     "name": "stdout",
     "output_type": "stream",
     "text": [
      "Within-cluster variance: 3220.2628090366584\n",
      "Between-cluster variance: 55535.81079604798\n",
      "Dataset-cluster variance: 2736916561.181285\n"
     ]
    }
   ],
   "source": [
    "# assignment 5 single\n",
    "from sklearn.cluster import AgglomerativeClustering\n",
    "\n",
    "data = df.loc[:,['X','Y']]\n",
    "\n",
    "clustering=AgglomerativeClustering(n_clusters=4, linkage='single')\n",
    "clusters=clustering.fit_predict(data)\n",
    "\n",
    "# Mendapatkan label cluster untuk setiap titik data\n",
    "labels = clustering.labels_\n",
    "\n",
    "# Mendapatkan pusat cluster\n",
    "cluster_centers = np.array([X[labels == i].mean(axis=0) for i in range(4)])\n",
    "\n",
    "# Menghitung varian dalam kelompok\n",
    "within_cluster_var = np.mean([np.linalg.norm(X[labels == i] - cluster_centers[i]) ** 2 for i in range(4)])\n",
    "\n",
    "# Menghitung varian antara kelompok\n",
    "between_cluster_var = np.mean([np.linalg.norm(cluster_centers[i] - kmeans.cluster_centers_) ** 2 for i in range(4)])\n",
    "\n",
    "# Menghitung varian dataset\n",
    "dataset_var = np.mean([np.linalg.norm(between_cluster_var - within_cluster_var) ** 2 ])\n",
    "\n",
    "print(\"Within-cluster variance:\", within_cluster_var)\n",
    "print(\"Between-cluster variance:\", between_cluster_var)\n",
    "print(\"Dataset-cluster variance:\", dataset_var)"
   ]
  },
  {
   "cell_type": "code",
   "execution_count": 30,
   "metadata": {},
   "outputs": [
    {
     "name": "stdout",
     "output_type": "stream",
     "text": [
      "Within-cluster variance: 3220.262809036658\n",
      "Between-cluster variance: 55535.81079604798\n",
      "Dataset-cluster variance: 2736916561.181285\n"
     ]
    }
   ],
   "source": [
    "# assignment 5 sentroik\n",
    "from sklearn.cluster import AgglomerativeClustering\n",
    "\n",
    "data = df.loc[:,['X','Y']]\n",
    "\n",
    "clustering=AgglomerativeClustering(n_clusters=4, linkage='ward')\n",
    "clusters=clustering.fit_predict(data)\n",
    "\n",
    "# Mendapatkan label cluster untuk setiap titik data\n",
    "labels = clustering.labels_\n",
    "\n",
    "# Mendapatkan pusat cluster\n",
    "cluster_centers = np.array([X[labels == i].mean(axis=0) for i in range(4)])\n",
    "\n",
    "# Menghitung varian dalam kelompok\n",
    "within_cluster_var = np.mean([np.linalg.norm(X[labels == i] - cluster_centers[i]) ** 2 for i in range(4)])\n",
    "\n",
    "# Menghitung varian antara kelompok\n",
    "between_cluster_var = np.mean([np.linalg.norm(cluster_centers[i] - kmeans.cluster_centers_) ** 2 for i in range(4)])\n",
    "\n",
    "# Menghitung varian dataset\n",
    "dataset_var = np.mean([np.linalg.norm(between_cluster_var - within_cluster_var) ** 2 ])\n",
    "\n",
    "print(\"Within-cluster variance:\", within_cluster_var)\n",
    "print(\"Between-cluster variance:\", between_cluster_var)\n",
    "print(\"Dataset-cluster variance:\", dataset_var)"
   ]
  },
  {
   "cell_type": "code",
   "execution_count": 31,
   "metadata": {},
   "outputs": [
    {
     "name": "stdout",
     "output_type": "stream",
     "text": [
      "Within-cluster variance: 3220.2628090366584\n",
      "Between-cluster variance: 55535.81079604798\n",
      "Dataset-cluster variance: 2736916561.181285\n"
     ]
    }
   ],
   "source": [
    "# assignment 5 complete\n",
    "from sklearn.cluster import AgglomerativeClustering\n",
    "\n",
    "data = df.loc[:,['X','Y']]\n",
    "\n",
    "clustering=AgglomerativeClustering(n_clusters=4, linkage='complete')\n",
    "clusters=clustering.fit_predict(data)\n",
    "\n",
    "# Mendapatkan label cluster untuk setiap titik data\n",
    "labels = clustering.labels_\n",
    "\n",
    "# Mendapatkan pusat cluster\n",
    "cluster_centers = np.array([X[labels == i].mean(axis=0) for i in range(4)])\n",
    "\n",
    "# Menghitung varian dalam kelompok\n",
    "within_cluster_var = np.mean([np.linalg.norm(X[labels == i] - cluster_centers[i]) ** 2 for i in range(4)])\n",
    "\n",
    "# Menghitung varian antara kelompok\n",
    "between_cluster_var = np.mean([np.linalg.norm(cluster_centers[i] - kmeans.cluster_centers_) ** 2 for i in range(4)])\n",
    "\n",
    "# Menghitung varian dataset\n",
    "dataset_var = np.mean([np.linalg.norm(between_cluster_var - within_cluster_var) ** 2 ])\n",
    "\n",
    "print(\"Within-cluster variance:\", within_cluster_var)\n",
    "print(\"Between-cluster variance:\", between_cluster_var)\n",
    "print(\"Dataset-cluster variance:\", dataset_var)"
   ]
  }
 ],
 "metadata": {
  "kernelspec": {
   "display_name": "Python 3",
   "language": "python",
   "name": "python3"
  },
  "language_info": {
   "codemirror_mode": {
    "name": "ipython",
    "version": 3
   },
   "file_extension": ".py",
   "mimetype": "text/x-python",
   "name": "python",
   "nbconvert_exporter": "python",
   "pygments_lexer": "ipython3",
   "version": "3.10.11"
  }
 },
 "nbformat": 4,
 "nbformat_minor": 2
}
