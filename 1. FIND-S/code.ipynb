{
 "cells": [
  {
   "cell_type": "code",
   "execution_count": 87,
   "metadata": {},
   "outputs": [
    {
     "name": "stdout",
     "output_type": "stream",
     "text": [
      "   Example    Sky  Temp Humidity    Wind Water Forecast EnjoySport\n",
      "0        1  Sunny  Warm   Normal  Strong  Warm     Same        Yes\n",
      "1        2  Sunny  Warm     High  Strong  Warm     Same        Yes\n",
      "2        3  Rainy  Cold     High  Strong  Warm   Change         No\n",
      "3        4  Sunny  Warm     High  Strong  Cool   Change        Yes\n"
     ]
    }
   ],
   "source": [
    "# ASSIGNMENT 1\n",
    "import pandas as pd \n",
    "dataset = pd.read_csv(\"C:/Users/bayuk/OneDrive/Documents/AI/pens/smtr3/Machine Learning/Data/sport.csv\")\n",
    "print(dataset)"
   ]
  },
  {
   "cell_type": "code",
   "execution_count": 88,
   "metadata": {},
   "outputs": [
    {
     "name": "stdout",
     "output_type": "stream",
     "text": [
      "Data Training are:  [['Sunny' 'Warm' 'Normal' 'Strong' 'Warm' 'Same']\n",
      " ['Sunny' 'Warm' 'High' 'Strong' 'Warm' 'Same']\n",
      " ['Rainy' 'Cold' 'High' 'Strong' 'Warm' 'Change']\n",
      " ['Sunny' 'Warm' 'High' 'Strong' 'Cool' 'Change']]\n"
     ]
    }
   ],
   "source": [
    "# ASSIGNMENT 2\n",
    "import numpy as np\n",
    "datatraining = np.array(dataset)[:,1:-1]\n",
    "print(\"Data Training are: \", datatraining)"
   ]
  },
  {
   "cell_type": "code",
   "execution_count": 89,
   "metadata": {},
   "outputs": [
    {
     "name": "stdout",
     "output_type": "stream",
     "text": [
      "The target is:  ['Yes' 'Yes' 'No' 'Yes']\n"
     ]
    }
   ],
   "source": [
    "# ASSIGNMENT 3\n",
    "target = np.array(dataset)[:,-1]\n",
    "print(\"The target is: \",target)"
   ]
  },
  {
   "cell_type": "code",
   "execution_count": 90,
   "metadata": {},
   "outputs": [
    {
     "name": "stdout",
     "output_type": "stream",
     "text": [
      "Hypothesis: ['Sunny' 'Warm' '?' 'Strong' '?' '?']\n"
     ]
    }
   ],
   "source": [
    "# ASSIGNMENT 4\n",
    "def find_s_algorithm(condition, target):\n",
    "    for i, value in enumerate(target):\n",
    "        if value == 'Yes':\n",
    "            specific_hypothesis = condition[i].copy()\n",
    "            break\n",
    "            \n",
    "    for i, value in enumerate(condition):\n",
    "        if target[i] == 'Yes':\n",
    "            for j in range(len(specific_hypothesis)):\n",
    "                if value[j] != specific_hypothesis[j]:\n",
    "                    specific_hypothesis[j] = '?'\n",
    "                else:\n",
    "                    pass\n",
    "    return specific_hypothesis\n",
    "        \n",
    "hipotesis = find_s_algorithm(datatraining, target)\n",
    "print(\"Hypothesis:\",hipotesis)"
   ]
  },
  {
   "cell_type": "code",
   "execution_count": 96,
   "metadata": {},
   "outputs": [
    {
     "name": "stdout",
     "output_type": "stream",
     "text": [
      "Data Test: ['Sunny', 'Warm', 'Normal', 'Strong', 'Cool', 'Same']\n"
     ]
    }
   ],
   "source": [
    "# ASSIGNMENT 5\n",
    "datatest = ['Sunny', 'Warm', 'Normal', 'Strong', 'Cool', 'Same']\n",
    "print(\"Data Test:\", datatest)\n"
   ]
  },
  {
   "cell_type": "code",
   "execution_count": 97,
   "metadata": {},
   "outputs": [
    {
     "name": "stdout",
     "output_type": "stream",
     "text": [
      "Data Test: ['Sunny', 'Warm', 'Normal', 'Strong', 'Cool', 'Same']\n",
      "Dicission Find-S : Enjoy Sport\n"
     ]
    }
   ],
   "source": [
    "# ASSIGNMENT 6\n",
    "def dicission_find(hipotesis, datatest):\n",
    "    for i in range(len(datatest)):\n",
    "        if hipotesis[i] == '?' or hipotesis[i] == datatest[i]:\n",
    "            continue\n",
    "        else:\n",
    "            return False\n",
    "    else:\n",
    "        return True\n",
    "\n",
    "print(\"Data Test:\", datatest)\n",
    "if dicission_find(hipotesis, datatest):\n",
    "    print(\"Dicission Find-S : Enjoy Sport\")\n",
    "else:\n",
    "    print(\"Dicission Find-S : Don't Sport\")      "
   ]
  },
  {
   "cell_type": "code",
   "execution_count": 98,
   "metadata": {},
   "outputs": [
    {
     "name": "stdout",
     "output_type": "stream",
     "text": [
      "Data Test: ['Rainy', 'Warm', 'Normal', 'Strong', 'Cool', 'Change']\n",
      "Dicission Find-S : Don't Sport\n"
     ]
    }
   ],
   "source": [
    "# ASSIGNMENT 7\n",
    "datatest = ['Rainy', 'Warm', 'Normal', 'Strong', 'Cool', 'Change']\n",
    "print(\"Data Test:\", datatest)\n",
    "if dicission_find(hipotesis, datatest):\n",
    "    print(\"Dicission Find-S : Enjoy Sport\")\n",
    "else:\n",
    "    print(\"Dicission Find-S : Don't Sport\") "
   ]
  }
 ],
 "metadata": {
  "kernelspec": {
   "display_name": "Python 3",
   "language": "python",
   "name": "python3"
  },
  "language_info": {
   "codemirror_mode": {
    "name": "ipython",
    "version": 3
   },
   "file_extension": ".py",
   "mimetype": "text/x-python",
   "name": "python",
   "nbconvert_exporter": "python",
   "pygments_lexer": "ipython3",
   "version": "3.10.11"
  },
  "orig_nbformat": 4
 },
 "nbformat": 4,
 "nbformat_minor": 2
}
